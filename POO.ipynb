{
 "cells": [
  {
   "cell_type": "markdown",
   "metadata": {},
   "source": [
    "# class Auto:\n",
    "    aMarca=\"\"\n",
    "    aModelo=0\n",
    "    aPlacar=\"\"\n",
    "taxi=Auto()\n",
    "taxi.aModelo"
   ]
  },
  {
   "cell_type": "code",
   "execution_count": 1,
   "metadata": {},
   "outputs": [
    {
     "ename": "NameError",
     "evalue": "name 'taxi' is not defined",
     "output_type": "error",
     "traceback": [
      "\u001b[1;31m---------------------------------------------------------------------------\u001b[0m",
      "\u001b[1;31mNameError\u001b[0m                                 Traceback (most recent call last)",
      "\u001b[1;32m<ipython-input-1-9c5c0cfa8c6a>\u001b[0m in \u001b[0;36m<module>\u001b[1;34m\u001b[0m\n\u001b[1;32m----> 1\u001b[1;33m \u001b[0mtaxi\u001b[0m\u001b[1;33m\u001b[0m\u001b[1;33m\u001b[0m\u001b[0m\n\u001b[0m",
      "\u001b[1;31mNameError\u001b[0m: name 'taxi' is not defined"
     ]
    }
   ],
   "source": [
    "taxi"
   ]
  },
  {
   "cell_type": "code",
   "execution_count": null,
   "metadata": {},
   "outputs": [],
   "source": [
    "class Datos:\n",
    "    pass\n",
    "samir=Datos()\n",
    "maria=Datos()\n",
    "\n",
    "samir.nombre=\"samir\"\n",
    "samir.edad=25\n",
    "\n",
    "maria.nombre=\"maria\"\n",
    "maria.edad=23\n",
    "\n",
    "maria.edad"
   ]
  },
  {
   "cell_type": "markdown",
   "metadata": {},
   "source": [
    "# Metodo\n"
   ]
  },
  {
   "cell_type": "markdown",
   "metadata": {},
   "source": [
    "self en la funciones def hace referencia al objeto y tambine con self llamamos al dicho objeto"
   ]
  },
  {
   "cell_type": "code",
   "execution_count": 13,
   "metadata": {},
   "outputs": [
    {
     "data": {
      "text/plain": [
       "20"
      ]
     },
     "execution_count": 13,
     "metadata": {},
     "output_type": "execute_result"
    }
   ],
   "source": [
    "class Matematicas:\n",
    "    \n",
    "    def Suma(self):\n",
    "        self.n1=5\n",
    "        self.n2=15\n",
    "        \n",
    "s=Matematicas()\n",
    "s.Suma()\n",
    "s.n1+s.n2"
   ]
  },
  {
   "cell_type": "code",
   "execution_count": 17,
   "metadata": {},
   "outputs": [
    {
     "data": {
      "text/plain": [
       "'M'"
      ]
     },
     "execution_count": 17,
     "metadata": {},
     "output_type": "execute_result"
    }
   ],
   "source": [
    "class Ropa:\n",
    "    def __init__(self):\n",
    "        self.Marca=\"cisco\"\n",
    "        self.Talla=\"M\"\n",
    "        self.Color=\"Azul\"\n",
    "camisa=Ropa()\n",
    "camisa.Talla\n",
    "        "
   ]
  },
  {
   "cell_type": "code",
   "execution_count": 21,
   "metadata": {},
   "outputs": [
    {
     "data": {
      "text/plain": [
       "14"
      ]
     },
     "execution_count": 21,
     "metadata": {},
     "output_type": "execute_result"
    }
   ],
   "source": [
    "class Calculadora:\n",
    "    def __init__(self,n1,n2):\n",
    "        self.suma=n1+n2\n",
    "        self.resta=n1+n2\n",
    "tabla=Calculadora(5,9)\n",
    "tabla.suma"
   ]
  },
  {
   "cell_type": "code",
   "execution_count": 26,
   "metadata": {},
   "outputs": [
    {
     "name": "stdout",
     "output_type": "stream",
     "text": [
      "se creo el auto toyota\n",
      "se creo el auto SUSUKY\n",
      "toyota se fabrico en 10 y tiene 4\n",
      "SUSUKY se fabrico en 10 y tiene 4\n"
     ]
    }
   ],
   "source": [
    "class Fabrica1:\n",
    "    def __init__(self,tiempo,nombre,ruedas):\n",
    "        self.tiempo=tiempo\n",
    "        self.nombre=nombre\n",
    "        self.ruedas=ruedas\n",
    "        print(\"se creo el auto\",self.nombre)\n",
    "        \n",
    "    def __str__(self):\n",
    "        return \"{} se fabrico en {} y tiene {}\".format(self.nombre,self.tiempo,self.ruedas)\n",
    "\n",
    "class Listado:\n",
    "    \n",
    "    autos=[]\n",
    "    \n",
    "    def __init__(self,autos=[]):\n",
    "        self.autos=autos\n",
    "    def fabricar(self,x):\n",
    "        self.autos.append(x)\n",
    "    def visualizar(self):\n",
    "        for x in self.autos:\n",
    "            print(x)\n",
    "\n",
    "a=Fabrica1(10,\"toyota\",4)\n",
    "c=Fabrica1(10,\"SUSUKY\",4)\n",
    "\n",
    "listar=Listado()\n",
    "listar.fabricar(a)\n",
    "listar.fabricar(c)\n",
    "\n",
    "listar.visualizar()\n",
    "        "
   ]
  },
  {
   "cell_type": "markdown",
   "metadata": {},
   "source": [
    "# atributo"
   ]
  },
  {
   "cell_type": "code",
   "execution_count": 22,
   "metadata": {},
   "outputs": [
    {
     "name": "stdout",
     "output_type": "stream",
     "text": [
      "el doctor tiene una edad? True\n"
     ]
    }
   ],
   "source": [
    "class Persona1:\n",
    "    nombre=\"nombre\"\n",
    "    edad=25\n",
    "doctor=Persona1()\n",
    "print(\"el doctor tiene una edad?\",hasattr(doctor,\"edad\"))"
   ]
  },
  {
   "cell_type": "code",
   "execution_count": 24,
   "metadata": {},
   "outputs": [
    {
     "data": {
      "text/plain": [
       "'Hector'"
      ]
     },
     "execution_count": 24,
     "metadata": {},
     "output_type": "execute_result"
    }
   ],
   "source": [
    "# setattr canbia el atributo nombre por otro\n",
    "setattr(doctor,\"nombre\",\"Hector\")\n",
    "doctor.nombre"
   ]
  },
  {
   "cell_type": "code",
   "execution_count": 25,
   "metadata": {},
   "outputs": [
    {
     "name": "stdout",
     "output_type": "stream",
     "text": [
      "eliminar el atributo edad de la clase persona1\n"
     ]
    },
    {
     "ename": "AttributeError",
     "evalue": "'Persona1' object has no attribute 'edad'",
     "output_type": "error",
     "traceback": [
      "\u001b[1;31m---------------------------------------------------------------------------\u001b[0m",
      "\u001b[1;31mAttributeError\u001b[0m                            Traceback (most recent call last)",
      "\u001b[1;32m<ipython-input-25-6bd79e2fc56a>\u001b[0m in \u001b[0;36m<module>\u001b[1;34m\u001b[0m\n\u001b[0;32m      1\u001b[0m \u001b[0mprint\u001b[0m\u001b[1;33m(\u001b[0m\u001b[1;34m\"eliminar el atributo edad de la clase persona1\"\u001b[0m\u001b[1;33m)\u001b[0m\u001b[1;33m\u001b[0m\u001b[1;33m\u001b[0m\u001b[0m\n\u001b[0;32m      2\u001b[0m \u001b[0mdelattr\u001b[0m\u001b[1;33m(\u001b[0m\u001b[0mPersona1\u001b[0m\u001b[1;33m,\u001b[0m\u001b[1;34m\"edad\"\u001b[0m\u001b[1;33m)\u001b[0m\u001b[1;33m\u001b[0m\u001b[1;33m\u001b[0m\u001b[0m\n\u001b[1;32m----> 3\u001b[1;33m \u001b[0mdoctor\u001b[0m\u001b[1;33m.\u001b[0m\u001b[0medad\u001b[0m\u001b[1;33m\u001b[0m\u001b[1;33m\u001b[0m\u001b[0m\n\u001b[0m",
      "\u001b[1;31mAttributeError\u001b[0m: 'Persona1' object has no attribute 'edad'"
     ]
    }
   ],
   "source": [
    "print(\"eliminar el atributo edad de la clase persona1\")\n",
    "delattr(Persona1,\"edad\")\n",
    "doctor.edad"
   ]
  },
  {
   "cell_type": "markdown",
   "metadata": {},
   "source": [
    "# constructor"
   ]
  },
  {
   "cell_type": "code",
   "execution_count": 26,
   "metadata": {},
   "outputs": [
    {
     "data": {
      "text/plain": [
       "'el nombre es samir y tiene una edad de 25 '"
      ]
     },
     "execution_count": 26,
     "metadata": {},
     "output_type": "execute_result"
    }
   ],
   "source": [
    "class Persona2:\n",
    "    def __init__(self,nombre,edad):\n",
    "        self.nombre=nombre\n",
    "        self.edad=edad\n",
    "    def descripcion(self):\n",
    "        return (\"el nombre es {} y tiene una edad de {} \".format(self.nombre,self.edad))\n",
    "persona=Persona2(\"samir\",25)\n",
    "persona.descripcion()"
   ]
  },
  {
   "cell_type": "markdown",
   "metadata": {},
   "source": [
    "# herencia"
   ]
  },
  {
   "cell_type": "code",
   "execution_count": 2,
   "metadata": {},
   "outputs": [
    {
     "data": {
      "text/plain": [
       "'el pokemon boby hace el tipo de ataqueimpacto trueno'"
      ]
     },
     "execution_count": 2,
     "metadata": {},
     "output_type": "execute_result"
    }
   ],
   "source": [
    "class Pokemon:\n",
    "    \n",
    "    def __init__(self,nombre,tipo):\n",
    "        pass\n",
    "        self.nombre=nombre\n",
    "        self.tipo=tipo\n",
    "    \n",
    "    def descripcion(self):\n",
    "        return (\"el nombre del pokemon es {} y es de tipo {}\".format(self.nombre,self.tipo))\n",
    "\n",
    "class Pikachu(Pokemon):\n",
    "    \n",
    "    def ataque(self,TipoAtaque):\n",
    "        return (\"el pokemon {} hace el tipo de ataque{}\".format(self.nombre,TipoAtaque))\n",
    "\n",
    "nuevo_pokemon=Pikachu(\"boby\",\"electrico\")\n",
    "nuevo_pokemon.descripcion()\n",
    "nuevo_pokemon.ataque(\"impacto trueno\")\n",
    "        \n",
    "\n",
    "    "
   ]
  },
  {
   "cell_type": "code",
   "execution_count": 3,
   "metadata": {},
   "outputs": [
    {
     "ename": "SyntaxError",
     "evalue": "invalid syntax (<ipython-input-3-335ffe9d9043>, line 7)",
     "output_type": "error",
     "traceback": [
      "\u001b[1;36m  File \u001b[1;32m\"<ipython-input-3-335ffe9d9043>\"\u001b[1;36m, line \u001b[1;32m7\u001b[0m\n\u001b[1;33m    self.datos=[int(input(\"ingresar datos\"+str(i+1)+\"=\")) for in range(self.n)]\u001b[0m\n\u001b[1;37m                                                               ^\u001b[0m\n\u001b[1;31mSyntaxError\u001b[0m\u001b[1;31m:\u001b[0m invalid syntax\n"
     ]
    }
   ],
   "source": [
    "class Calculadora:\n",
    "    def __init__(self,numero):\n",
    "        self.n=numeros\n",
    "        self.datos=[0 for i in range(numero)]\n",
    "        \n",
    "    def ingresarDato(self):\n",
    "        self.datos=[int(input(\"ingresar datos\"+str(i+1)+\"=\")) for in range(self.n)]\n",
    "        \n",
    "class Op_basicas(Calculadora):\n",
    "    def __init__(self):\n",
    "        Calculadora.__init__(self,2)\n",
    "        \n",
    "    def suma(self):\n",
    "        a,b=self.datos\n",
    "        s=a+b\n",
    "        print(\"el resultado es\",s)\n",
    "\n",
    "def Raiz(Calculadora):\n",
    "    def __init__(self):\n",
    "        Calculadora.__init__(self,1)\n",
    "    def cuadrada(self):\n",
    "        import math\n",
    "        a=self.datos\n",
    "        print(\"el resultado es: \", math.sqrt(a))\n",
    "\n",
    "ejemplo=Op_basicas()\n",
    "ejemplo.ingresarDatos()\n",
    "ejemplo.suma\n",
    "\n",
    "        \n",
    "        \n",
    "        \n",
    "        "
   ]
  },
  {
   "cell_type": "code",
   "execution_count": 14,
   "metadata": {},
   "outputs": [
    {
     "name": "stdout",
     "output_type": "stream",
     "text": [
      "se creo el auto ferrari\n",
      "se elimino el auto ferrari\n"
     ]
    }
   ],
   "source": [
    "class Fabrica:\n",
    "    def __init__(self,tiempo,nombre,ruedas):\n",
    "        self.tiempo=tiempo\n",
    "        self.nombre=nombre\n",
    "        self.ruedas=ruedas\n",
    "        print(\"se creo el auto\",self.nombre)\n",
    "    def __del__(self):\n",
    "        print(\"se elimino el auto\",self.nombre)\n",
    "    def __str__(self):\n",
    "        return \"{} se fabrico en {} y tiene{}\".format(self.nombre,self.tiempo,self.ruedas)\n",
    "    def __len__(self):\n",
    "        return self.tiempo\n",
    "        \n",
    "auto=Fabrica(10,\"ferrari\",4)"
   ]
  },
  {
   "cell_type": "code",
   "execution_count": 15,
   "metadata": {},
   "outputs": [
    {
     "data": {
      "text/plain": [
       "'ferrari se fabrico en 10 y tiene4'"
      ]
     },
     "execution_count": 15,
     "metadata": {},
     "output_type": "execute_result"
    }
   ],
   "source": [
    "str(auto)"
   ]
  },
  {
   "cell_type": "code",
   "execution_count": 16,
   "metadata": {},
   "outputs": [
    {
     "data": {
      "text/plain": [
       "10"
      ]
     },
     "execution_count": 16,
     "metadata": {},
     "output_type": "execute_result"
    }
   ],
   "source": [
    "len(auto)"
   ]
  },
  {
   "cell_type": "markdown",
   "metadata": {},
   "source": [
    "HERENCIA MULTIPLE"
   ]
  },
  {
   "cell_type": "code",
   "execution_count": 6,
   "metadata": {},
   "outputs": [
    {
     "name": "stdout",
     "output_type": "stream",
     "text": [
      "telefono apagado\n"
     ]
    }
   ],
   "source": [
    "class Telefono:\n",
    "    def __init__(self):\n",
    "        pass\n",
    "    def llamar(self):\n",
    "        print(\"llamando...\")\n",
    "    def ocupado(self):\n",
    "        print(\"ocupado...\")\n",
    "        \n",
    "class Camara:\n",
    "    def __init__(self):\n",
    "        pass\n",
    "    def fotografia(self):\n",
    "        print(\"tomando fotos...\")\n",
    "    \n",
    "class Reproduccion:\n",
    "    def __init__(self):\n",
    "        pass\n",
    "    def reproduccionMusica(self):\n",
    "        print(\"reproduciendo musica...\")\n",
    "    def reproduciendoVideo(self):\n",
    "        print(\"reproduciendo video...\")\n",
    "        \n",
    "class Smarphone(Telefono,Camara,Reproduccion):\n",
    "    def __del__(self):\n",
    "        print(\"telefono apagado\")\n",
    "    \n",
    "movil=Smarphone()\n",
    "        "
   ]
  },
  {
   "cell_type": "code",
   "execution_count": 7,
   "metadata": {},
   "outputs": [
    {
     "name": "stdout",
     "output_type": "stream",
     "text": [
      "reproduciendo musica...\n"
     ]
    }
   ],
   "source": [
    "movil.reproduccionMusica()"
   ]
  },
  {
   "cell_type": "markdown",
   "metadata": {},
   "source": [
    "# f- string"
   ]
  },
  {
   "cell_type": "code",
   "execution_count": 2,
   "metadata": {},
   "outputs": [
    {
     "name": "stdout",
     "output_type": "stream",
     "text": [
      "buemvenido al cuso de python\n"
     ]
    }
   ],
   "source": [
    "curso=\"python\"\n",
    "print(\"buemvenido al cuso de %s\"%curso)"
   ]
  },
  {
   "cell_type": "code",
   "execution_count": 3,
   "metadata": {},
   "outputs": [
    {
     "name": "stdout",
     "output_type": "stream",
     "text": [
      "hola soy samir y tengo 25\n"
     ]
    }
   ],
   "source": [
    "Nombre=\"samir\"\n",
    "edad=25\n",
    "print(\"hola soy %s y tengo %s\"%(Nombre,edad))"
   ]
  },
  {
   "cell_type": "code",
   "execution_count": 4,
   "metadata": {},
   "outputs": [
    {
     "name": "stdout",
     "output_type": "stream",
     "text": [
      "hola soy samir y tengo 25\n"
     ]
    }
   ],
   "source": [
    "print(f\"hola soy {Nombre} y tengo {edad}\")"
   ]
  },
  {
   "cell_type": "code",
   "execution_count": 7,
   "metadata": {},
   "outputs": [
    {
     "name": "stdout",
     "output_type": "stream",
     "text": [
      "samir ramos 25\n"
     ]
    }
   ],
   "source": [
    "class Estudiante:\n",
    "    def __init__(self,nombre,apellido,edad):\n",
    "        self.nombre=nombre\n",
    "        self.apellido=apellido\n",
    "        self.edad=edad\n",
    "    \n",
    "    def __str__(self):\n",
    "        return f\"{self.nombre} {self.apellido} {self.edad}\"\n",
    "    \n",
    "    def __repr__(self):\n",
    "        return f\"hola soy {self.nombre} {self.apellido} y tengo {self.edad}\"\n",
    "\n",
    "# esto llama al str    \n",
    "nuevo=Estudiante(\"samir\",\"ramos\",25)\n",
    "print(f\"{nuevo}\")"
   ]
  },
  {
   "cell_type": "code",
   "execution_count": 9,
   "metadata": {},
   "outputs": [
    {
     "name": "stdout",
     "output_type": "stream",
     "text": [
      "<__main__.Estudiante object at 0x00000262146F8C08> \n"
     ]
    }
   ],
   "source": [
    "#esto llama al repr , hasta puede  guardar diferentes  atributos ese metodo, sirve como lista\n",
    "nuevo1=Estudiante(\"samir\",\"ramos\",25)\n",
    "print(f\"{nuevo1 !r} \")"
   ]
  },
  {
   "cell_type": "markdown",
   "metadata": {},
   "source": [
    "# metodo de clase"
   ]
  },
  {
   "cell_type": "code",
   "execution_count": 13,
   "metadata": {},
   "outputs": [
    {
     "data": {
      "text/plain": [
       "['harina', 'leche', 'chocolate']"
      ]
     },
     "execution_count": 13,
     "metadata": {},
     "output_type": "execute_result"
    }
   ],
   "source": [
    "class Pastel:\n",
    "    \n",
    "    def __init__(self, ingredientes):\n",
    "        self.ingredientes=ingredientes\n",
    "        \n",
    "    def __repr__(self):\n",
    "        return f\"{self.ingredientes !r}\"\n",
    "    \n",
    "    @classmethod\n",
    "    def pastel_chocolate(cls):\n",
    "        return cls ([\"harina\",\"leche\",\"chocolate\"])\n",
    "    \n",
    "    @classmethod\n",
    "    def pastel_vainilla(cls):\n",
    "        return cls ([\"harina\",\"leche\",\"vainilla\"])\n",
    "        \n",
    "#en este metodo no necesitas crear un objeto\n",
    "Pastel.pastel_chocolate()\n",
    "        "
   ]
  },
  {
   "cell_type": "markdown",
   "metadata": {},
   "source": [
    "# metodo estatico"
   ]
  },
  {
   "cell_type": "code",
   "execution_count": 31,
   "metadata": {},
   "outputs": [
    {
     "data": {
      "text/plain": [
       "['harina', 'huevo', 'azucar']"
      ]
     },
     "execution_count": 31,
     "metadata": {},
     "output_type": "execute_result"
    }
   ],
   "source": [
    "import math\n",
    "class Pastel1:\n",
    "    \n",
    "    def __init__(self, ingredientes,tamanio):\n",
    "        self.ingredientes=ingredientes\n",
    "        self.tamanio=tamanio\n",
    "    def __repr__(self):\n",
    "        return f\" Pastel1 ({self.ingredientes},\"f\"{self.tamanio})\"\n",
    "    def area(self):\n",
    "        return self.tamanio_area(self.tamanio)\n",
    "    \n",
    "    @staticmethod\n",
    "    def tamanio_area(A):\n",
    "        return A**2*math.pi\n",
    "\n",
    "nuevo=Pastel1([\"harina\",\"huevo\",\"azucar\"],5)\n",
    "nuevo.ingredientes"
   ]
  },
  {
   "cell_type": "code",
   "execution_count": 30,
   "metadata": {},
   "outputs": [
    {
     "ename": "AttributeError",
     "evalue": "'Pastel1' object has no attribute 'tamanio_area'",
     "output_type": "error",
     "traceback": [
      "\u001b[1;31m---------------------------------------------------------------------------\u001b[0m",
      "\u001b[1;31mAttributeError\u001b[0m                            Traceback (most recent call last)",
      "\u001b[1;32m<ipython-input-30-6a9603ced8f9>\u001b[0m in \u001b[0;36m<module>\u001b[1;34m\u001b[0m\n\u001b[1;32m----> 1\u001b[1;33m \u001b[0mnuevo\u001b[0m\u001b[1;33m.\u001b[0m\u001b[0mtamanio_area\u001b[0m\u001b[1;33m(\u001b[0m\u001b[1;36m5\u001b[0m\u001b[1;33m)\u001b[0m\u001b[1;33m\u001b[0m\u001b[1;33m\u001b[0m\u001b[0m\n\u001b[0m",
      "\u001b[1;31mAttributeError\u001b[0m: 'Pastel1' object has no attribute 'tamanio_area'"
     ]
    }
   ],
   "source": [
    "nuevo.tamanio_area(5)"
   ]
  },
  {
   "cell_type": "code",
   "execution_count": null,
   "metadata": {},
   "outputs": [],
   "source": []
  }
 ],
 "metadata": {
  "kernelspec": {
   "display_name": "Python 3",
   "language": "python",
   "name": "python3"
  },
  "language_info": {
   "codemirror_mode": {
    "name": "ipython",
    "version": 3
   },
   "file_extension": ".py",
   "mimetype": "text/x-python",
   "name": "python",
   "nbconvert_exporter": "python",
   "pygments_lexer": "ipython3",
   "version": "3.7.6"
  }
 },
 "nbformat": 4,
 "nbformat_minor": 4
}
