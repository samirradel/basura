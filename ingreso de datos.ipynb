{
 "cells": [
  {
   "cell_type": "code",
   "execution_count": 1,
   "metadata": {},
   "outputs": [
    {
     "name": "stdout",
     "output_type": "stream",
     "text": [
      "ingrese 3 numeros\n",
      "ingrese datos5\n",
      "ingrese datos9\n",
      "ingrese datos10\n",
      "ingrese datos14\n"
     ]
    },
    {
     "data": {
      "text/plain": [
       "['5', '9', '10', '14']"
      ]
     },
     "execution_count": 1,
     "metadata": {},
     "output_type": "execute_result"
    }
   ],
   "source": [
    "print(\"ingrese 4 numeros\")\n",
    "lista=[]\n",
    "for x in range(4):\n",
    "    lista.append(input(\"ingrese datos\"))\n",
    "lista"
   ]
  },
  {
   "cell_type": "code",
   "execution_count": 4,
   "metadata": {},
   "outputs": [
    {
     "name": "stdout",
     "output_type": "stream",
     "text": [
      "7 * 0 = 0\n",
      "7 * 1 = 7\n",
      "7 * 2 = 14\n",
      "7 * 3 = 21\n",
      "7 * 4 = 28\n",
      "7 * 5 = 35\n",
      "7 * 6 = 42\n",
      "7 * 7 = 49\n",
      "7 * 8 = 56\n",
      "7 * 9 = 63\n"
     ]
    }
   ],
   "source": [
    "for i in range(10):\n",
    "    print(\"7 * {} = {}\".format(i,7*i))"
   ]
  },
  {
   "cell_type": "markdown",
   "metadata": {},
   "source": [
    "validacion de argumentos en una funcion "
   ]
  },
  {
   "cell_type": "code",
   "execution_count": 7,
   "metadata": {},
   "outputs": [
    {
     "name": "stdout",
     "output_type": "stream",
     "text": [
      "tienes q ingresar los dos datos\n"
     ]
    }
   ],
   "source": [
    "def validacion(x=None, y=None):\n",
    "    if x==None or y==None:\n",
    "        print(\"tienes q ingresar los dos datos\")\n",
    "        return\n",
    "    return x*y\n",
    "validacion()"
   ]
  },
  {
   "cell_type": "code",
   "execution_count": 8,
   "metadata": {},
   "outputs": [
    {
     "name": "stdout",
     "output_type": "stream",
     "text": [
      "tienes q ingresar los dos datos\n"
     ]
    }
   ],
   "source": [
    "validacion(1)"
   ]
  },
  {
   "cell_type": "markdown",
   "metadata": {},
   "source": [
    "cuando no se sabe la longitud de una lista  podemos hacer esto...."
   ]
  },
  {
   "cell_type": "code",
   "execution_count": 10,
   "metadata": {},
   "outputs": [
    {
     "data": {
      "text/plain": [
       "[1, 5, 6, 8, 12, 14]"
      ]
     },
     "execution_count": 10,
     "metadata": {},
     "output_type": "execute_result"
    }
   ],
   "source": [
    "def arg(*lista1):\n",
    "    for i in lista1:\n",
    "        print(i)\n",
    "x=arg=[1,5,6,8,12,14]\n",
    "x"
   ]
  },
  {
   "cell_type": "code",
   "execution_count": 16,
   "metadata": {},
   "outputs": [
    {
     "name": "stdout",
     "output_type": "stream",
     "text": [
      "nombre\n",
      "edad\n",
      "carrera\n"
     ]
    }
   ],
   "source": [
    "def diccionario(**dic):\n",
    "    for i in dic:\n",
    "        print(i)\n",
    "w=diccionario(nombre=\"samir\",edad=25,carrera=\"sistemas\")\n",
    "w"
   ]
  },
  {
   "cell_type": "markdown",
   "metadata": {},
   "source": [
    "COSAS Q SE TIENEN Q HACER AL INICIAR UN SISTEMA  PAR EL USUARIO"
   ]
  },
  {
   "cell_type": "code",
   "execution_count": 17,
   "metadata": {},
   "outputs": [
    {
     "name": "stdout",
     "output_type": "stream",
     "text": [
      "ingrese su edada\n",
      "no ingreso lo que se lel pidio\n"
     ]
    }
   ],
   "source": [
    "try:\n",
    "    c=float(input(\"ingrese su edad\"))\n",
    "    print(c)\n",
    "except:\n",
    "    print(\"no ingreso lo que se lel pidio\")\n"
   ]
  },
  {
   "cell_type": "code",
   "execution_count": null,
   "metadata": {},
   "outputs": [],
   "source": [
    "while(True):\n",
    "    try:\n",
    "        c=int(input(\"ingrese su edad\"))\n",
    "        print(c)\n",
    "    except:\n",
    "        print(\"ERROR vuelta a ingresar el dato pedido\")\n",
    "    else:\n",
    "        print(\"Iniciaste secion perfectamente\")\n",
    "         break:"
   ]
  },
  {
   "cell_type": "code",
   "execution_count": null,
   "metadata": {},
   "outputs": [],
   "source": []
  }
 ],
 "metadata": {
  "kernelspec": {
   "display_name": "Python 3",
   "language": "python",
   "name": "python3"
  },
  "language_info": {
   "codemirror_mode": {
    "name": "ipython",
    "version": 3
   },
   "file_extension": ".py",
   "mimetype": "text/x-python",
   "name": "python",
   "nbconvert_exporter": "python",
   "pygments_lexer": "ipython3",
   "version": "3.7.6"
  }
 },
 "nbformat": 4,
 "nbformat_minor": 4
}
