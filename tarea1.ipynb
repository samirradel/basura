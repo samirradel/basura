{
 "cells": [
  {
   "cell_type": "markdown",
   "metadata": {},
   "source": [
    "## precision y exactitud"
   ]
  },
  {
   "cell_type": "markdown",
   "metadata": {},
   "source": [
    "HALLANDO LA MEDIA DE A, B , C Y D"
   ]
  },
  {
   "cell_type": "code",
   "execution_count": 3,
   "metadata": {},
   "outputs": [
    {
     "ename": "ModuleNotFoundError",
     "evalue": "No module named 'numpy'",
     "output_type": "error",
     "traceback": [
      "\u001b[1;31m---------------------------------------------------------------------------\u001b[0m",
      "\u001b[1;31mModuleNotFoundError\u001b[0m                       Traceback (most recent call last)",
      "\u001b[1;32m<ipython-input-3-e0609d65021d>\u001b[0m in \u001b[0;36m<module>\u001b[1;34m\u001b[0m\n\u001b[1;32m----> 1\u001b[1;33m \u001b[1;32mimport\u001b[0m \u001b[0mnumpy\u001b[0m \u001b[1;32mas\u001b[0m \u001b[0mnp\u001b[0m\u001b[1;33m\u001b[0m\u001b[1;33m\u001b[0m\u001b[0m\n\u001b[0m\u001b[0;32m      2\u001b[0m \u001b[1;32mimport\u001b[0m \u001b[0mmath\u001b[0m\u001b[1;33m\u001b[0m\u001b[1;33m\u001b[0m\u001b[0m\n",
      "\u001b[1;31mModuleNotFoundError\u001b[0m: No module named 'numpy'"
     ]
    }
   ],
   "source": [
    "import numpy as np\n",
    "import math"
   ]
  },
  {
   "cell_type": "code",
   "execution_count": 9,
   "metadata": {},
   "outputs": [],
   "source": [
    "A=[10.09,10.10,10.08,10.11,10.12]\n",
    "B=[9.88,10.02,10.14,10.21,9.80]\n",
    "C=[9.79,10.19,9.78,10.05,9.69]\n",
    "D=[10.04,10.02,9.98,9.97,10.04]\n"
   ]
  },
  {
   "cell_type": "code",
   "execution_count": 26,
   "metadata": {},
   "outputs": [],
   "source": [
    "def media(x):\n",
    "    suma=0.0\n",
    "    for i in x:\n",
    "        suma+=i\n",
    "    return suma/5\n",
    "\n"
   ]
  },
  {
   "cell_type": "code",
   "execution_count": 84,
   "metadata": {},
   "outputs": [],
   "source": [
    "mediaA=media(A)\n",
    "mediaB=media(B)\n",
    "mediaC=media(C)\n",
    "mediaD=media(D)\n"
   ]
  },
  {
   "cell_type": "code",
   "execution_count": 86,
   "metadata": {},
   "outputs": [
    {
     "name": "stdout",
     "output_type": "stream",
     "text": [
      "la media de A es: 10.10\n",
      "la media de B es: 10.01\n",
      "la media de C es: 9.90\n",
      "la media de D es: 10.01\n"
     ]
    }
   ],
   "source": [
    "print('la media de A es: {:.2f}'.format(mediaA))\n",
    "print('la media de B es: {:.2f}'.format(mediaB))\n",
    "print('la media de C es: {:.2f}'.format(mediaC))\n",
    "print('la media de D es: {:.2f}'.format(mediaD))"
   ]
  },
  {
   "cell_type": "markdown",
   "metadata": {},
   "source": [
    "HALLANDO EL RANGO DE A , B , C  Y D"
   ]
  },
  {
   "cell_type": "code",
   "execution_count": 12,
   "metadata": {},
   "outputs": [],
   "source": [
    "maxA=max(A)\n",
    "maxB=max(B)\n",
    "maxC=max(C)\n",
    "maxD=max(D)\n"
   ]
  },
  {
   "cell_type": "code",
   "execution_count": 13,
   "metadata": {},
   "outputs": [],
   "source": [
    "minA=min(A)\n",
    "minB=min(B)\n",
    "minC=min(C)\n",
    "minD=min(D)"
   ]
  },
  {
   "cell_type": "code",
   "execution_count": 14,
   "metadata": {},
   "outputs": [],
   "source": [
    "RangoA=maxA-minA\n",
    "RangoB=maxB-minB\n",
    "RangoC=maxC-minC\n",
    "RangoD=maxD-minD"
   ]
  },
  {
   "cell_type": "code",
   "execution_count": 16,
   "metadata": {},
   "outputs": [
    {
     "name": "stdout",
     "output_type": "stream",
     "text": [
      "el rango  de A es: 0.04\n",
      "el rango  de B es: 0.41\n",
      "el rango  de C es: 0.50\n",
      "el rango  de D es: 0.07\n"
     ]
    }
   ],
   "source": [
    "print('el rango  de A es: {:.2f}'.format(RangoA))\n",
    "print('el rango  de B es: {:.2f}'.format(RangoB))\n",
    "print('el rango  de C es: {:.2f}'.format(RangoC))\n",
    "print('el rango  de D es: {:.2f}'.format(RangoD))"
   ]
  },
  {
   "cell_type": "markdown",
   "metadata": {},
   "source": [
    "HALLAR LA DESVIACION ESTANDAR s DE A, B ,C,Y D"
   ]
  },
  {
   "cell_type": "code",
   "execution_count": null,
   "metadata": {},
   "outputs": [],
   "source": [
    "HALLANDO LA VARIANZA "
   ]
  },
  {
   "cell_type": "code",
   "execution_count": 28,
   "metadata": {},
   "outputs": [],
   "source": [
    "def varianza(A):\n",
    "    suma=0.0\n",
    "    for i in A:\n",
    "        suma+=(i-media(A))**2\n",
    "    return suma/4;\n",
    "        "
   ]
  },
  {
   "cell_type": "code",
   "execution_count": 39,
   "metadata": {},
   "outputs": [
    {
     "data": {
      "text/plain": [
       "0.001099999999999953"
      ]
     },
     "execution_count": 39,
     "metadata": {},
     "output_type": "execute_result"
    }
   ],
   "source": [
    "varianza(A)\n",
    "varianza(B)\n",
    "varianza(C)\n",
    "varianza(D)"
   ]
  },
  {
   "cell_type": "markdown",
   "metadata": {},
   "source": [
    "HALLANDO LA DESVIACION "
   ]
  },
  {
   "cell_type": "code",
   "execution_count": 36,
   "metadata": {},
   "outputs": [],
   "source": [
    "desviacionA=math.sqrt(varianza(A))\n",
    "desviacionB=math.sqrt(varianza(B))\n",
    "desviacionC=math.sqrt(varianza(C))\n",
    "desviacionD=math.sqrt(varianza(D))"
   ]
  },
  {
   "cell_type": "code",
   "execution_count": 38,
   "metadata": {},
   "outputs": [
    {
     "name": "stdout",
     "output_type": "stream",
     "text": [
      "la desviacion estandar de A es: 0.01581\n",
      "la desviacion estandar de B es: 0.17176\n",
      "la desviacion estandar de B es: 0.21048\n",
      "la desviacion estandar de B es: 0.03317\n"
     ]
    }
   ],
   "source": [
    "print('la desviacion estandar de A es: {:.5f}'.format(desviacionA))\n",
    "print('la desviacion estandar de B es: {:.5f}'.format(desviacionB))\n",
    "print('la desviacion estandar de B es: {:.5f}'.format(desviacionC))\n",
    "print('la desviacion estandar de B es: {:.5f}'.format(desviacionD))\n"
   ]
  },
  {
   "cell_type": "markdown",
   "metadata": {},
   "source": [
    "COEFICIENTE DE VARIANZA"
   ]
  },
  {
   "cell_type": "code",
   "execution_count": 44,
   "metadata": {},
   "outputs": [],
   "source": [
    "CVA=(desviacionA)/media(A)\n",
    "CVB=(desviacionA)/media(B)\n",
    "CVC=(desviacionA)/media(C)\n",
    "CVD=(desviacionA)/media(D)"
   ]
  },
  {
   "cell_type": "code",
   "execution_count": 45,
   "metadata": {},
   "outputs": [
    {
     "name": "stdout",
     "output_type": "stream",
     "text": [
      "el coeficiente de varianza de A es: 0.00157\n",
      "el coeficiente de varianza de B es: 0.00158\n",
      "el coeficiente de varianza de C es: 0.00160\n",
      "el coeficiente de varianza de D es: 0.00158\n"
     ]
    }
   ],
   "source": [
    "print('el coeficiente de varianza de A es: {:.5f}'.format(CVA))\n",
    "print('el coeficiente de varianza de B es: {:.5f}'.format(CVB))\n",
    "print('el coeficiente de varianza de C es: {:.5f}'.format(CVC))\n",
    "print('el coeficiente de varianza de D es: {:.5f}'.format(CVD))"
   ]
  },
  {
   "cell_type": "code",
   "execution_count": null,
   "metadata": {},
   "outputs": [],
   "source": []
  }
 ],
 "metadata": {
  "kernelspec": {
   "display_name": "Python 3",
   "language": "python",
   "name": "python3"
  },
  "language_info": {
   "codemirror_mode": {
    "name": "ipython",
    "version": 3
   },
   "file_extension": ".py",
   "mimetype": "text/x-python",
   "name": "python",
   "nbconvert_exporter": "python",
   "pygments_lexer": "ipython3",
   "version": "3.8.3"
  }
 },
 "nbformat": 4,
 "nbformat_minor": 4
}
